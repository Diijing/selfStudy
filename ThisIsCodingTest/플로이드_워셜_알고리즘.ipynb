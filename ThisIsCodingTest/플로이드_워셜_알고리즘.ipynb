{
 "cells": [
  {
   "cell_type": "markdown",
   "id": "c7bec001",
   "metadata": {},
   "source": [
    "#### 이 문제에서는 어차피 거리가 1이기 때문에 다익스트라를 2번 써주던가, 플로이드 워셜을\n",
    "#### 한번 쓰고 특정 수치를 도출하던가 둘 중에 하나를 골라야 한다. 다익스트라를 두번 쓰면\n",
    "#### O(2Mlog(N)), 플로이드 워셜은 O(N^3)(내가 틀릴 가능성이 높다.) 이라고 대략 추산하면\n",
    "#### 다익스트라를 쓰는 것이 이득이지만, 워셜이 직관적으로 알아보기 쉬우므로 플로이드 워셜\n",
    "#### 알고리즘으로 문제를 풀기로 했다.\n"
   ]
  },
  {
   "cell_type": "code",
   "execution_count": null,
   "id": "77ae60bd",
   "metadata": {},
   "outputs": [],
   "source": [
    "# 무한으로 설정하는 이유 : 최단 거리를 구하려고 하기 때문\n",
    "INF = int(1e9)\n",
    "# 노드의 개수, 간선의 개수 입력\n",
    "n, m = map(int, input().split())\n",
    "# 노드 개수 기록 후 바로 2차원 리스트 만들어주기\n",
    "# 왜 n+1인지 : 그래야 인덱싱을 편하게 직관적으로 할 수 있기 때문이다.\n",
    "graph = [[INF] * (n+1)\n",
    "         for _ in range(n+1)]\n",
    "\n",
    "# 간선의 개수만큼 인풋을 받는다. 여기서는 연결된 회사의 번호가 맞다\n",
    "for _ in range(m):\n",
    "    a, b = map(int, input().split())\n",
    "    graph[a][b] = 1\n",
    "    # 상호 연결되어 있으므로!\n",
    "    graph[b][a] = 1\n",
    "# 최종 방문하려는 회사인 X와 소개팅 장소인 K가 입력되어야 한다.\n",
    "x, k = map(int, input().split())\n",
    "# 다음에는 자신에서 출발하여 자신으로 도착하는, 행렬의 대각선 부분에 0을 채워준다.(초기화)\n",
    "for a in range(1,n+1):\n",
    "    for b in range(1,n+1):\n",
    "        if a == b:\n",
    "            graph[a][b] = 0\n",
    "# 그리고 여기가 플로이드 워셜의 연산 부분. 점화식을 기억한다면 코드를 짜기 수월할 것이다.\n",
    "for c in range(1,n+1):\n",
    "    for a in range(1,n+1):\n",
    "        for b in range(1,n+1):\n",
    "            graph[a][b] = min(graph[a][b], graph[a][c] + graph[c][b])\n",
    "# 플로이드 워셜 알고리즘을 수행한 후, 원하는 결과만을 도출해내기 위해서는 x와 k를\n",
    "# 이용해서 2차원 리스트에 접근하면 된다. 다만 중간에 가는 길이 끊기면 도착할 수 없으므로\n",
    "# -1을 뽑아주는 경우를 내면 된다.\n",
    "if graph[1][x] == INF:\n",
    "    print(-1)\n",
    "else:\n",
    "    print(graph[1][k] + graph[k][x])\n",
    "print(graph)\n",
    "\n",
    "# 첫 시도에서는 간선들의 정보를 담고 난 다음에 소개팅과 최종 도착지의 위치를 받아야 한다는 사실을\n",
    "# 간과하여 소개팅과 최종 도착지를 먼저 받고 간선들의 정보를 담았습니다. 결과적으로 순서만\n",
    "# 바꿔주니 답이 바로 나왔습니다라고 하려고 했는데\n",
    "\n",
    "# 제가 간과한 것이 양방향 이동이 가능하다는 것이었습니다 그래서 간선 정보 입력 시 graph[b][a] = 1\n",
    "# 를 추가해 주었습니다. 그러니 답이 나옵니다! : 실제로 양방향이기 때문에 이 그래프는 대각선을\n",
    "# 두고 완전한 대칭 모양을 보여줍니다."
   ]
  },
  {
   "cell_type": "code",
   "execution_count": null,
   "id": "c77ce37a",
   "metadata": {},
   "outputs": [],
   "source": []
  },
  {
   "cell_type": "code",
   "execution_count": null,
   "id": "76db2864",
   "metadata": {},
   "outputs": [],
   "source": []
  },
  {
   "cell_type": "code",
   "execution_count": null,
   "id": "f000af41",
   "metadata": {},
   "outputs": [],
   "source": []
  },
  {
   "cell_type": "code",
   "execution_count": null,
   "id": "12a6fb0a",
   "metadata": {},
   "outputs": [],
   "source": []
  },
  {
   "cell_type": "code",
   "execution_count": null,
   "id": "d2d0b925",
   "metadata": {},
   "outputs": [],
   "source": []
  }
 ],
 "metadata": {
  "kernelspec": {
   "display_name": "Python 3 (ipykernel)",
   "language": "python",
   "name": "python3"
  },
  "language_info": {
   "codemirror_mode": {
    "name": "ipython",
    "version": 3
   },
   "file_extension": ".py",
   "mimetype": "text/x-python",
   "name": "python",
   "nbconvert_exporter": "python",
   "pygments_lexer": "ipython3",
   "version": "3.9.7"
  }
 },
 "nbformat": 4,
 "nbformat_minor": 5
}
